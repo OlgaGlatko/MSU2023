{
  "nbformat": 4,
  "nbformat_minor": 0,
  "metadata": {
    "colab": {
      "provenance": [],
      "authorship_tag": "ABX9TyOP95oVGoLhr6zYV9Mn//EK",
      "include_colab_link": true
    },
    "kernelspec": {
      "name": "python3",
      "display_name": "Python 3"
    },
    "language_info": {
      "name": "python"
    }
  },
  "cells": [
    {
      "cell_type": "markdown",
      "metadata": {
        "id": "view-in-github",
        "colab_type": "text"
      },
      "source": [
        "<a href=\"https://colab.research.google.com/github/OlgaGlatko/MSU2023/blob/main/untitled1.ipynb\" target=\"_parent\"><img src=\"https://colab.research.google.com/assets/colab-badge.svg\" alt=\"Open In Colab\"/></a>"
      ]
    },
    {
      "cell_type": "code",
      "execution_count": null,
      "metadata": {
        "colab": {
          "base_uri": "https://localhost:8080/"
        },
        "id": "D-wqXNGmcspu",
        "outputId": "bbc3d278-e291-4695-b56e-72f42025948d"
      },
      "outputs": [
        {
          "output_type": "stream",
          "name": "stdout",
          "text": [
            "[[ 6.55705022e+01  1.13683774e+00 -1.21426842e+00 ... -1.05454717e+00\n",
            "   1.85971197e-01  3.91698448e+01]\n",
            " [ 0.00000000e+00  7.18513912e+01 -2.87618558e-01 ...  4.72469114e-01\n",
            "   7.52947221e-01 -9.91911059e+01]\n",
            " [ 0.00000000e+00  0.00000000e+00  5.00561648e+01 ... -1.11619993e+00\n",
            "   1.44941905e+00  5.51547545e+01]\n",
            " ...\n",
            " [-3.91039729e-14 -1.54919984e-15  1.22879980e-12 ... -1.86105877e+01\n",
            "  -1.00711369e+01 -3.39351004e+05]\n",
            " [ 1.36344626e-12  5.58811115e-14 -4.39554068e-11 ...  0.00000000e+00\n",
            "   1.62534913e+03  1.19282819e+07]\n",
            " [ 2.33145991e+01  7.38480671e+01 -8.07762464e+01 ... -3.17741251e+01\n",
            "  -9.91334126e+01  4.50350761e+01]]\n",
            "-1.7227547705790493e+295\n"
          ]
        }
      ],
      "source": [
        "import numpy as np\n",
        "n = 99\n",
        "A = np.random.uniform(low=-100, high=101, size=(100,100))\n",
        "\n",
        "def gauss(A):\n",
        "    d=0\n",
        "    while d<=n:\n",
        "        for i in range(d+1, n):\n",
        "            A[d][i]=A[d][i]/A[d][d]\n",
        "        for i in range (d+1, n):\n",
        "            q=A[i][d]\n",
        "            for j in range (n+1):\n",
        "                A[i][j]=A[i][j]-A[d][j]*q/A[d][d]\n",
        "        d=d+1\n",
        "    return (A)\n",
        "x=gauss(A)\n",
        "print(x)\n",
        "\n",
        "def det (A):\n",
        "    z=1\n",
        "    for i in range (n):\n",
        "        z *= A[i][i]\n",
        "    return (z)\n",
        "v=det(A)\n",
        "print (v)"
      ]
    },
    {
      "cell_type": "code",
      "source": [
        "import numpy as np\n",
        "n = 99\n",
        "A = np.random.uniform(low=-100, high=101, size=(100,100))\n",
        "def gauss(A):\n",
        "    count_swap = triangle(A)\n",
        "    det = determinant(A, count_swap)\n",
        "    flag = checkByZero(det)\n",
        "    if flag:\n",
        "        print(\"\\nМатрица вырожденная. Определитель равен нулю\\n\")\n",
        "        exit(1)\n",
        "    x = searchSolution(A)\n",
        "    return \n",
        "print (x)"
      ],
      "metadata": {
        "colab": {
          "base_uri": "https://localhost:8080/"
        },
        "id": "3LdPK-4BdsIJ",
        "outputId": "f64f9191-5aaa-48ce-da48-ea26dce9fac1"
      },
      "execution_count": null,
      "outputs": [
        {
          "output_type": "stream",
          "name": "stdout",
          "text": [
            "[[ 6.55705022e+01  1.13683774e+00 -1.21426842e+00 ... -1.05454717e+00\n",
            "   1.85971197e-01  3.91698448e+01]\n",
            " [ 0.00000000e+00  7.18513912e+01 -2.87618558e-01 ...  4.72469114e-01\n",
            "   7.52947221e-01 -9.91911059e+01]\n",
            " [ 0.00000000e+00  0.00000000e+00  5.00561648e+01 ... -1.11619993e+00\n",
            "   1.44941905e+00  5.51547545e+01]\n",
            " ...\n",
            " [-3.91039729e-14 -1.54919984e-15  1.22879980e-12 ... -1.86105877e+01\n",
            "  -1.00711369e+01 -3.39351004e+05]\n",
            " [ 1.36344626e-12  5.58811115e-14 -4.39554068e-11 ...  0.00000000e+00\n",
            "   1.62534913e+03  1.19282819e+07]\n",
            " [ 2.33145991e+01  7.38480671e+01 -8.07762464e+01 ... -3.17741251e+01\n",
            "  -9.91334126e+01  4.50350761e+01]]\n"
          ]
        }
      ]
    },
    {
      "cell_type": "code",
      "source": [
        "import numpy as np\n",
        "\n",
        "A = np.random.uniform(low=-100, high=101, size=(3,3))\n",
        "\n",
        "B = np.random.uniform(low=-100, high=101, size=(3,3))\n",
        "\n",
        "L = np.zeros((3,3))\n",
        "L[0][0]=(A[0][0])**(1/2)\n",
        "L[1][0]=A[1][0]/L[0][0]\n",
        "L[2][0]=A[2][0]/L[0][0]\n",
        "\n",
        "L[1][1]=(A[1][1]-L[1][0]**2)**(1/2)\n",
        "L[2][1]=(A[2][1]-L[1][0]*L[2][0])/L[1][1]\n",
        "\n",
        "L[2][2]=(A[2][2]-L[2][0]**2-L[2][1]**2)**(1/2)\n",
        "\n",
        "\n",
        "Lo=np.linalg.inv(L)\n",
        "\n",
        "Y=np.matmul(Lo, B) \n",
        "\n",
        "\n",
        "Lt=L.transpose()\n",
        "\n",
        "Lto=Lo=np.linalg.inv(Lt)\n",
        "X=np.matmul(Lto, Y)\n",
        "\n",
        "print (X)"
      ],
      "metadata": {
        "colab": {
          "base_uri": "https://localhost:8080/"
        },
        "id": "9SB_iI31w0Ps",
        "outputId": "890bfc89-b01f-4021-c807-a8db1e914760"
      },
      "execution_count": null,
      "outputs": [
        {
          "output_type": "stream",
          "name": "stdout",
          "text": [
            "[[ 1.5008075  -1.17054788  1.88381378]\n",
            " [ 0.91904085 -0.91173739  0.1752839 ]\n",
            " [ 1.28586463  0.10087454  0.54650897]]\n"
          ]
        }
      ]
    },
    {
      "cell_type": "code",
      "source": [
        "import numpy as np\n",
        "\n",
        "A = np.random.uniform(low=-100, high=101, size=(3,3))\n",
        "\n",
        "B = np.random.uniform(low=-100, high=101, size=(3,3))\n",
        "\n",
        "L = np.linalg.cholesky(A)\n",
        "Lo=np.linalg.inv(L)\n",
        "\n",
        "Y=np.matmul(Lo, B) \n",
        "\n",
        "\n",
        "Lt=L.transpose()\n",
        "\n",
        "Lto=Lo=np.linalg.inv(Lt)\n",
        "X=np.matmul(Lto, Y)\n",
        "\n",
        "print (X)"
      ],
      "metadata": {
        "colab": {
          "base_uri": "https://localhost:8080/",
          "height": 390
        },
        "id": "m7k2Xy2hyexi",
        "outputId": "83ffeadf-6577-4861-e576-b9c68450101a"
      },
      "execution_count": null,
      "outputs": [
        {
          "output_type": "error",
          "ename": "LinAlgError",
          "evalue": "ignored",
          "traceback": [
            "\u001b[0;31m---------------------------------------------------------------------------\u001b[0m",
            "\u001b[0;31mLinAlgError\u001b[0m                               Traceback (most recent call last)",
            "\u001b[0;32m<ipython-input-6-2be0fa6331a9>\u001b[0m in \u001b[0;36m<module>\u001b[0;34m\u001b[0m\n\u001b[1;32m      5\u001b[0m \u001b[0mB\u001b[0m \u001b[0;34m=\u001b[0m \u001b[0mnp\u001b[0m\u001b[0;34m.\u001b[0m\u001b[0mrandom\u001b[0m\u001b[0;34m.\u001b[0m\u001b[0muniform\u001b[0m\u001b[0;34m(\u001b[0m\u001b[0mlow\u001b[0m\u001b[0;34m=\u001b[0m\u001b[0;34m-\u001b[0m\u001b[0;36m100\u001b[0m\u001b[0;34m,\u001b[0m \u001b[0mhigh\u001b[0m\u001b[0;34m=\u001b[0m\u001b[0;36m101\u001b[0m\u001b[0;34m,\u001b[0m \u001b[0msize\u001b[0m\u001b[0;34m=\u001b[0m\u001b[0;34m(\u001b[0m\u001b[0;36m3\u001b[0m\u001b[0;34m,\u001b[0m\u001b[0;36m3\u001b[0m\u001b[0;34m)\u001b[0m\u001b[0;34m)\u001b[0m\u001b[0;34m\u001b[0m\u001b[0;34m\u001b[0m\u001b[0m\n\u001b[1;32m      6\u001b[0m \u001b[0;34m\u001b[0m\u001b[0m\n\u001b[0;32m----> 7\u001b[0;31m \u001b[0mL\u001b[0m \u001b[0;34m=\u001b[0m \u001b[0mnp\u001b[0m\u001b[0;34m.\u001b[0m\u001b[0mlinalg\u001b[0m\u001b[0;34m.\u001b[0m\u001b[0mcholesky\u001b[0m\u001b[0;34m(\u001b[0m\u001b[0mA\u001b[0m\u001b[0;34m)\u001b[0m\u001b[0;34m\u001b[0m\u001b[0;34m\u001b[0m\u001b[0m\n\u001b[0m\u001b[1;32m      8\u001b[0m \u001b[0mLo\u001b[0m\u001b[0;34m=\u001b[0m\u001b[0mnp\u001b[0m\u001b[0;34m.\u001b[0m\u001b[0mlinalg\u001b[0m\u001b[0;34m.\u001b[0m\u001b[0minv\u001b[0m\u001b[0;34m(\u001b[0m\u001b[0mL\u001b[0m\u001b[0;34m)\u001b[0m\u001b[0;34m\u001b[0m\u001b[0;34m\u001b[0m\u001b[0m\n\u001b[1;32m      9\u001b[0m \u001b[0;34m\u001b[0m\u001b[0m\n",
            "\u001b[0;32m/usr/local/lib/python3.9/dist-packages/numpy/core/overrides.py\u001b[0m in \u001b[0;36mcholesky\u001b[0;34m(*args, **kwargs)\u001b[0m\n",
            "\u001b[0;32m/usr/local/lib/python3.9/dist-packages/numpy/linalg/linalg.py\u001b[0m in \u001b[0;36mcholesky\u001b[0;34m(a)\u001b[0m\n\u001b[1;32m    761\u001b[0m     \u001b[0mt\u001b[0m\u001b[0;34m,\u001b[0m \u001b[0mresult_t\u001b[0m \u001b[0;34m=\u001b[0m \u001b[0m_commonType\u001b[0m\u001b[0;34m(\u001b[0m\u001b[0ma\u001b[0m\u001b[0;34m)\u001b[0m\u001b[0;34m\u001b[0m\u001b[0;34m\u001b[0m\u001b[0m\n\u001b[1;32m    762\u001b[0m     \u001b[0msignature\u001b[0m \u001b[0;34m=\u001b[0m \u001b[0;34m'D->D'\u001b[0m \u001b[0;32mif\u001b[0m \u001b[0misComplexType\u001b[0m\u001b[0;34m(\u001b[0m\u001b[0mt\u001b[0m\u001b[0;34m)\u001b[0m \u001b[0;32melse\u001b[0m \u001b[0;34m'd->d'\u001b[0m\u001b[0;34m\u001b[0m\u001b[0;34m\u001b[0m\u001b[0m\n\u001b[0;32m--> 763\u001b[0;31m     \u001b[0mr\u001b[0m \u001b[0;34m=\u001b[0m \u001b[0mgufunc\u001b[0m\u001b[0;34m(\u001b[0m\u001b[0ma\u001b[0m\u001b[0;34m,\u001b[0m \u001b[0msignature\u001b[0m\u001b[0;34m=\u001b[0m\u001b[0msignature\u001b[0m\u001b[0;34m,\u001b[0m \u001b[0mextobj\u001b[0m\u001b[0;34m=\u001b[0m\u001b[0mextobj\u001b[0m\u001b[0;34m)\u001b[0m\u001b[0;34m\u001b[0m\u001b[0;34m\u001b[0m\u001b[0m\n\u001b[0m\u001b[1;32m    764\u001b[0m     \u001b[0;32mreturn\u001b[0m \u001b[0mwrap\u001b[0m\u001b[0;34m(\u001b[0m\u001b[0mr\u001b[0m\u001b[0;34m.\u001b[0m\u001b[0mastype\u001b[0m\u001b[0;34m(\u001b[0m\u001b[0mresult_t\u001b[0m\u001b[0;34m,\u001b[0m \u001b[0mcopy\u001b[0m\u001b[0;34m=\u001b[0m\u001b[0;32mFalse\u001b[0m\u001b[0;34m)\u001b[0m\u001b[0;34m)\u001b[0m\u001b[0;34m\u001b[0m\u001b[0;34m\u001b[0m\u001b[0m\n\u001b[1;32m    765\u001b[0m \u001b[0;34m\u001b[0m\u001b[0m\n",
            "\u001b[0;32m/usr/local/lib/python3.9/dist-packages/numpy/linalg/linalg.py\u001b[0m in \u001b[0;36m_raise_linalgerror_nonposdef\u001b[0;34m(err, flag)\u001b[0m\n\u001b[1;32m     89\u001b[0m \u001b[0;34m\u001b[0m\u001b[0m\n\u001b[1;32m     90\u001b[0m \u001b[0;32mdef\u001b[0m \u001b[0m_raise_linalgerror_nonposdef\u001b[0m\u001b[0;34m(\u001b[0m\u001b[0merr\u001b[0m\u001b[0;34m,\u001b[0m \u001b[0mflag\u001b[0m\u001b[0;34m)\u001b[0m\u001b[0;34m:\u001b[0m\u001b[0;34m\u001b[0m\u001b[0;34m\u001b[0m\u001b[0m\n\u001b[0;32m---> 91\u001b[0;31m     \u001b[0;32mraise\u001b[0m \u001b[0mLinAlgError\u001b[0m\u001b[0;34m(\u001b[0m\u001b[0;34m\"Matrix is not positive definite\"\u001b[0m\u001b[0;34m)\u001b[0m\u001b[0;34m\u001b[0m\u001b[0;34m\u001b[0m\u001b[0m\n\u001b[0m\u001b[1;32m     92\u001b[0m \u001b[0;34m\u001b[0m\u001b[0m\n\u001b[1;32m     93\u001b[0m \u001b[0;32mdef\u001b[0m \u001b[0m_raise_linalgerror_eigenvalues_nonconvergence\u001b[0m\u001b[0;34m(\u001b[0m\u001b[0merr\u001b[0m\u001b[0;34m,\u001b[0m \u001b[0mflag\u001b[0m\u001b[0;34m)\u001b[0m\u001b[0;34m:\u001b[0m\u001b[0;34m\u001b[0m\u001b[0;34m\u001b[0m\u001b[0m\n",
            "\u001b[0;31mLinAlgError\u001b[0m: Matrix is not positive definite"
          ]
        }
      ]
    }
  ]
}